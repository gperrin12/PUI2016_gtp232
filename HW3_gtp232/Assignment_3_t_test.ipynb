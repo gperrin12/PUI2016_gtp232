{
 "cells": [
  {
   "cell_type": "code",
   "execution_count": 7,
   "metadata": {
    "collapsed": true
   },
   "outputs": [],
   "source": [
    "import os\n",
    "import numpy as np\n",
    "import matplotlib.pylab as plt\n",
    "%matplotlib inline"
   ]
  },
  {
   "cell_type": "code",
   "execution_count": 22,
   "metadata": {
    "collapsed": false
   },
   "outputs": [
    {
     "name": "stdout",
     "output_type": "stream",
     "text": [
      "['31.62223931', '32.82137636', '30.2291014', '31.41376587', '39.01055035', '34.82207891', '39.87188366', '39.57994562', '31.02658678', '27.66246068', '18.8752884', '46.2313731', '30.01522604', '47.6004104', '16.52726666', '42.4462331', '33.62527449', '42.28462558', '46.20520667', '30.87517392', '32.94800341', '26.17691512', '31.25699649', '35.33644554', '35.64072501', '40.32297174', '38.04348588', '29.4579793', '23.91636367', '34.56403521', '45.42782464', '38.95607754', '39.11396748', '39.67398759', '31.89148105', '22.62379325', '26.18910408', '43.54114213', '33.2607386', '31.67602384', '37.12846259', '38.22048496', '34.38814185', '36.11407371', '44.08064814', '29.59917161', '37.02411751', '41.60576556', '44.37860528', '38.06471077', '22.90526456', '40.27182857', '31.57979239', '25.88037795', '28.8913048', '44.33687925', '36.78948684', '43.46098875', '40.65557', '26.16634004', '25.13884784', '33.01581456', '32.87050073', '26.28557154', '39.44933037', '36.25528612', '40.719133', '40.57181545', '19.87166413', '43.21925286', '31.48102823', '37.14915056', '38.991504', '20.53059384', '27.80447692', '38.69933298', '30.0223142', '38.64884169', '26.40668884', '32.10224978', '28.31532754', '43.26195884', '40.3609407', '37.3025258', '31.45110181', '38.79599524', '36.92553372', '32.37167945', '23.25835631', '26.42613261', '48.74987653', '31.42512354', '46.80679298', '30.59748648', '20.7926322', '26.19785226', '42.7274097', '33.7314695', '37.23859057', '36.33984141']\n"
     ]
    }
   ],
   "source": [
    "#lab bus assignment\n",
    "#open the file\n",
    "times = [line.rstrip('\\n') for line in open('times.txt')]\n",
    "print times"
   ]
  },
  {
   "cell_type": "code",
   "execution_count": null,
   "metadata": {
    "collapsed": false
   },
   "outputs": [],
   "source": [
    "#null hypothesis: the commute time is the same or longer than 36 minutes\n",
    "#alternative hypothesis: the commmute time is significantly shorter than 36 minutes"
   ]
  },
  {
   "cell_type": "code",
   "execution_count": 36,
   "metadata": {
    "collapsed": false
   },
   "outputs": [
    {
     "name": "stdout",
     "output_type": "stream",
     "text": [
      "0.710150406819\n",
      "-2.15987810043\n"
     ]
    }
   ],
   "source": [
    "#convert times to numbers\n",
    "times = [float(i) for i in times]\n",
    "time_h0 = 36\n",
    "#determine mean and standard deviation of times\n",
    "time_mean = np.mean(times)\n",
    "time_std = np.std(times)\n",
    "n = len(times)\n",
    "time_st_error = time_std / np.sqrt(n)\n",
    "\n",
    "print time_st_error\n",
    "\n",
    "\n",
    "#determine z score\n",
    "z_score = (time_mean - time_h0) / time_st_error\n",
    "print z_score"
   ]
  },
  {
   "cell_type": "code",
   "execution_count": 37,
   "metadata": {
    "collapsed": true
   },
   "outputs": [],
   "source": [
    "#for the null hypothesis to be rejected, the commute time needs to be significantly different \n",
    "#(more than 1.96 standard deviations below 36 to achieve p=0.05 significance)\n",
    "#time is 2.15 standard deviations below the mean, therefore the null IS rejected,\n",
    "#and the new commute time is significantly less than the original B-)"
   ]
  },
  {
   "cell_type": "code",
   "execution_count": null,
   "metadata": {
    "collapsed": true
   },
   "outputs": [],
   "source": []
  }
 ],
 "metadata": {
  "kernelspec": {
   "display_name": "PUI2016_Python2",
   "language": "python",
   "name": "pui2016_python2"
  },
  "language_info": {
   "codemirror_mode": {
    "name": "ipython",
    "version": 2
   },
   "file_extension": ".py",
   "mimetype": "text/x-python",
   "name": "python",
   "nbconvert_exporter": "python",
   "pygments_lexer": "ipython2",
   "version": "2.7.12"
  }
 },
 "nbformat": 4,
 "nbformat_minor": 0
}
